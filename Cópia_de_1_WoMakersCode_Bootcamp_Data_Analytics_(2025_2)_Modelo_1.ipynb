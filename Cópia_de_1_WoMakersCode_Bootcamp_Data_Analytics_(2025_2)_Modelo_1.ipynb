{
  "nbformat": 4,
  "nbformat_minor": 0,
  "metadata": {
    "colab": {
      "provenance": [],
      "include_colab_link": true
    },
    "kernelspec": {
      "name": "python3",
      "display_name": "Python 3"
    },
    "language_info": {
      "name": "python"
    }
  },
  "cells": [
    {
      "cell_type": "markdown",
      "metadata": {
        "id": "view-in-github",
        "colab_type": "text"
      },
      "source": [
        "<a href=\"https://colab.research.google.com/github/Thataps/exerciciospython/blob/main/C%C3%B3pia_de_1_WoMakersCode_Bootcamp_Data_Analytics_(2025_2)_Modelo_1.ipynb\" target=\"_parent\"><img src=\"https://colab.research.google.com/assets/colab-badge.svg\" alt=\"Open In Colab\"/></a>"
      ]
    },
    {
      "cell_type": "markdown",
      "source": [
        "DESAFIO 1\n",
        "\n",
        "Solicite o peso de uma encomenda e calcule o frete com base na faixa de peso:\n",
        "\n",
        "Até 1kg → R$5\n",
        "\n",
        "1 a 5kg → R$10\n",
        "\n",
        "Acima de 5kg → R$20"
      ],
      "metadata": {
        "id": "fZu819fMQNKI"
      }
    },
    {
      "cell_type": "code",
      "source": [
        "peso = float(input(\"Digite o peso da encomenda: \"))\n",
        "if peso < 1:\n",
        "    valor = 5\n",
        "elif 1 < peso < 5:\n",
        "    valor = 10\n",
        "else:\n",
        "    valor = 20\n",
        "\n",
        "print(f\"O valor da encomenda é {valor}\")"
      ],
      "metadata": {
        "id": "tjM2VWBwQSJE",
        "outputId": "cce4746c-ea0e-47fc-d940-59ae742abd48",
        "colab": {
          "base_uri": "https://localhost:8080/"
        }
      },
      "execution_count": null,
      "outputs": [
        {
          "output_type": "stream",
          "name": "stdout",
          "text": [
            "Digite o peso da encomenda: 0.9\n",
            "O valor da encomenda é 5\n"
          ]
        }
      ]
    },
    {
      "cell_type": "markdown",
      "source": [
        "DESAFIO 2\n",
        "\n",
        "Escreva um programa que receba uma string e conte quantas consoantes ela contém (ignorando espaços e pontuação)."
      ],
      "metadata": {
        "id": "_m8mBod2g9Iv"
      }
    },
    {
      "cell_type": "code",
      "source": [
        "import string\n",
        "\n",
        "entrada = input(\"Digite uma frase: \")\n",
        "\n",
        "def contar_consoantes(s):\n",
        "    consoantes = \"bcdfghjklmnpqrstvwxyzBCDFGHJKLMNPQRSTVWXYZ\"\n",
        "\n",
        "\n",
        "    contador = 0\n",
        "\n",
        "    for qtd in s:\n",
        "        if qtd in consoantes:\n",
        "            contador += 1\n",
        "\n",
        "    return contador\n",
        "\n",
        "print(f\"A quantidade de consoantes na frase é: {contar_consoantes(entrada)}\")"
      ],
      "metadata": {
        "id": "G3MkSdjIfMay",
        "outputId": "787a7250-03e8-42c2-a150-33a08656567e",
        "colab": {
          "base_uri": "https://localhost:8080/"
        }
      },
      "execution_count": null,
      "outputs": [
        {
          "output_type": "stream",
          "name": "stdout",
          "text": [
            "Digite uma frase: tudo bem?\n",
            "A quantidade de consoantes na frase é: 4\n"
          ]
        }
      ]
    },
    {
      "cell_type": "markdown",
      "source": [
        "DESAFIO 3\n",
        "\n",
        "O computador escolhe um número aleatório entre 1 e 100.\n",
        "O usuário tenta adivinhar, e o programa dá dicas como:\n",
        "\n",
        "\"Muito frio\" se a diferença for maior que 30\n",
        "\n",
        "\"Frio\" se a diferença for entre 16 e 30\n",
        "\n",
        "\"Quente\" se for entre 6 e 15\n",
        "\n",
        "\"Muito quente\" se for 5 ou menos\n",
        "\n",
        "Repita até o usuário acertar.\n",
        "\n"
      ],
      "metadata": {
        "id": "azEJl_Q6cFFz"
      }
    },
    {
      "cell_type": "code",
      "source": [
        "import random\n",
        "\n",
        "numero = random.randint(1, 100)\n",
        "chute = int(input(\"Digite um número de 1 a 100: \"))\n",
        "\n",
        "while chute != numero:\n",
        "    diferenca = abs(numero - chute)\n",
        "\n",
        "    if diferenca > 30:\n",
        "        print(\"Muito frio\")\n",
        "    elif 16 < diferenca < 30:\n",
        "        print(\"Frio\")\n",
        "    elif 6 < diferenca < 15:\n",
        "        print(\"Quente\")\n",
        "    elif diferenca <= 5:\n",
        "        print(\"Muito quente\")\n",
        "\n",
        "    chute = int(input(\"Tente novamente, digite um número de 1 a 100: \"))\n",
        "\n",
        "print(f\"Parabéns! Você acertou o número {numero}.\")"
      ],
      "metadata": {
        "id": "4kz8g_Z5qGB1",
        "collapsed": true,
        "outputId": "d54f8884-0d43-4e68-8386-feeded9fe5fe",
        "colab": {
          "base_uri": "https://localhost:8080/"
        }
      },
      "execution_count": null,
      "outputs": [
        {
          "output_type": "stream",
          "name": "stdout",
          "text": [
            "Digite um número de 1 a 100: 30\n",
            "Quente\n",
            "Tente novamente, digite um número de 1 a 100: 25\n",
            "Tente novamente, digite um número de 1 a 100: 25\n",
            "Tente novamente, digite um número de 1 a 100: 30\n",
            "Quente\n",
            "Tente novamente, digite um número de 1 a 100: 40\n",
            "Parabéns! Você acertou o número 40.\n"
          ]
        }
      ]
    },
    {
      "cell_type": "markdown",
      "source": [
        "DESAFIO 4\n",
        "\n",
        "Crie um programa para gerenciar uma agenda simples com estas funcionalidades:\n",
        "\n",
        "Adicionar um contato (nome e telefone)\n",
        "\n",
        "Visualizar todos os contatos\n",
        "\n",
        "Buscar um contato pelo nome\n",
        "\n",
        "Remover um contato\n",
        "\n",
        "Sair do programa\n",
        "\n",
        "Use uma lista de dicionários para armazenar os contatos."
      ],
      "metadata": {
        "id": "qk4Gw-GAqFjY"
      }
    },
    {
      "cell_type": "code",
      "source": [
        "# Função para adicionar um contato\n",
        "def adicionar_contato(agenda):\n",
        "    nome = input(\"Digite o nome do contato: \")\n",
        "    telefone = input(\"Digite o telefone do contato: \")\n",
        "    agenda[nome] = telefone\n",
        "    print(f\"Contato de {nome} adicionado com sucesso!\\n\")\n",
        "\n",
        "# Função para visualizar todos os contatos\n",
        "def visualizar_contatos(agenda):\n",
        "    if not agenda:\n",
        "        print(\"A agenda está vazia.\\n\")\n",
        "    else:\n",
        "        print(\"\\n--- Todos os contatos ---\")\n",
        "        for nome, telefone in agenda.items():\n",
        "            print(f\"Nome: {nome}, Telefone: {telefone}\")\n",
        "        print()\n",
        "\n",
        "# Função para buscar um contato pelo nome\n",
        "def buscar_contato(agenda):\n",
        "    nome = input(\"Digite o nome do contato a ser buscado: \")\n",
        "    if nome in agenda:\n",
        "        print(f\"Contato encontrado: Nome: {nome}, Telefone: {agenda[nome]}\\n\")\n",
        "    else:\n",
        "        print(\"Contato não encontrado.\\n\")\n",
        "\n",
        "# Função para remover um contato\n",
        "def remover_contato(agenda):\n",
        "    nome = input(\"Digite o nome do contato a ser removido: \")\n",
        "    if nome in agenda:\n",
        "        del agenda[nome]\n",
        "        print(f\"Contato de {nome} removido com sucesso!\\n\")\n",
        "    else:\n",
        "        print(\"Contato não encontrado.\\n\")\n",
        "\n",
        "# Função principal para rodar o menu da agenda\n",
        "def agenda():\n",
        "    agenda = {}\n",
        "\n",
        "    while True:\n",
        "        print(\"==== Menu da Agenda ====\")\n",
        "        print(\"1. Adicionar contato\")\n",
        "        print(\"2. Visualizar todos os contatos\")\n",
        "        print(\"3. Buscar contato pelo nome\")\n",
        "        print(\"4. Remover contato\")\n",
        "        print(\"5. Sair\")\n",
        "\n",
        "        opcao = input(\"Escolha uma opção (1-5): \")\n",
        "\n",
        "        if opcao == \"1\":\n",
        "            adicionar_contato(agenda)\n",
        "        elif opcao == \"2\":\n",
        "            visualizar_contatos(agenda)\n",
        "        elif opcao == \"3\":\n",
        "            buscar_contato(agenda)\n",
        "        elif opcao == \"4\":\n",
        "            remover_contato(agenda)\n",
        "        elif opcao == \"5\":\n",
        "            print(\"Saindo do programa...\")\n",
        "            break\n",
        "        else:\n",
        "            print(\"Opção inválida. Tente novamente.\\n\")\n",
        "\n",
        "# Executando o programa\n",
        "if __name__ == \"__main__\":\n",
        "    agenda()\n",
        "\n",
        "\n",
        "\n"
      ],
      "metadata": {
        "id": "FOtsBTYecOUJ",
        "collapsed": true,
        "outputId": "0a42a0e6-0851-436b-8e99-f0684773eb0e",
        "colab": {
          "base_uri": "https://localhost:8080/"
        }
      },
      "execution_count": null,
      "outputs": [
        {
          "output_type": "stream",
          "name": "stdout",
          "text": [
            "==== Menu da Agenda ====\n",
            "1. Adicionar contato\n",
            "2. Visualizar todos os contatos\n",
            "3. Buscar contato pelo nome\n",
            "4. Remover contato\n",
            "5. Sair\n",
            "Escolha uma opção (1-5): 1\n",
            "Digite o nome do contato: Thamara\n",
            "Digite o telefone do contato: 92981546570\n",
            "Contato de Thamara adicionado com sucesso!\n",
            "\n",
            "==== Menu da Agenda ====\n",
            "1. Adicionar contato\n",
            "2. Visualizar todos os contatos\n",
            "3. Buscar contato pelo nome\n",
            "4. Remover contato\n",
            "5. Sair\n",
            "Escolha uma opção (1-5): 2\n",
            "\n",
            "--- Todos os contatos ---\n",
            "Nome: Thamara, Telefone: 92981546570\n",
            "\n",
            "==== Menu da Agenda ====\n",
            "1. Adicionar contato\n",
            "2. Visualizar todos os contatos\n",
            "3. Buscar contato pelo nome\n",
            "4. Remover contato\n",
            "5. Sair\n",
            "Escolha uma opção (1-5): 3\n",
            "Digite o nome do contato a ser buscado: Thamara\n",
            "Contato encontrado: Nome: Thamara, Telefone: 92981546570\n",
            "\n",
            "==== Menu da Agenda ====\n",
            "1. Adicionar contato\n",
            "2. Visualizar todos os contatos\n",
            "3. Buscar contato pelo nome\n",
            "4. Remover contato\n",
            "5. Sair\n",
            "Escolha uma opção (1-5): 4\n",
            "Digite o nome do contato a ser removido: Thamara\n",
            "Contato de Thamara removido com sucesso!\n",
            "\n",
            "==== Menu da Agenda ====\n",
            "1. Adicionar contato\n",
            "2. Visualizar todos os contatos\n",
            "3. Buscar contato pelo nome\n",
            "4. Remover contato\n",
            "5. Sair\n",
            "Escolha uma opção (1-5): 5\n",
            "Saindo do programa...\n"
          ]
        }
      ]
    },
    {
      "cell_type": "markdown",
      "source": [
        "DESAFIO 5\n",
        "\n",
        "Peça ao usuário o peso (kg) e a altura (m) e calcule o IMC = peso / altura².\n",
        "\n",
        "Mostre o valor do IMC e a classificação:\n",
        "\n",
        "Abaixo de 18.5: Abaixo do peso\n",
        "\n",
        "18.5 a 24.9: Peso normal\n",
        "\n",
        "25 a 29.9: Sobrepeso\n",
        "\n",
        "30 ou mais: Obesidade"
      ],
      "metadata": {
        "id": "cpVCv8m5QNm9"
      }
    },
    {
      "cell_type": "code",
      "source": [
        "peso = float(input(\"Digite o seu peso(kg): \"))\n",
        "altura = float(input(\"Digite sua altura(m): \"))\n",
        "\n",
        "IMC = peso / (altura * altura)\n",
        "\n",
        "if IMC < 18.5:\n",
        "    print(f\"Seu IMC é {IMC: .2F}. Abaixo do peso.\")\n",
        "elif 18.5 < IMC < 24.9:\n",
        "    print(f\"Seu IMC é {IMC: .2F}. Peso normal\")\n",
        "elif 25 < IMC < 29.5:\n",
        "    print(f\"Seu IMC é {IMC: .2F}. Sobrepeso\")\n",
        "elif IMC >= 30:\n",
        "    print(f\"Seu IMC é {IMC: .2F}. Obesidade\")"
      ],
      "metadata": {
        "id": "rGHbvDFVcGzy",
        "outputId": "06aa6510-ea52-4692-fafc-89f9a94d8455",
        "colab": {
          "base_uri": "https://localhost:8080/"
        }
      },
      "execution_count": null,
      "outputs": [
        {
          "output_type": "stream",
          "name": "stdout",
          "text": [
            "Digite o seu peso(kg): 63\n",
            "Digite sua altura(m): 1.63\n",
            "Seu IMC é  23.71. Peso normal\n"
          ]
        }
      ]
    }
  ]
}